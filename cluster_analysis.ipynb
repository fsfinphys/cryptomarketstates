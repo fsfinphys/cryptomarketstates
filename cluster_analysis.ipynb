{
 "cells": [
  {
   "cell_type": "code",
   "execution_count": null,
   "id": "73d6a6f3-f720-4a55-b2d5-f454a4f3f051",
   "metadata": {},
   "outputs": [],
   "source": [
    "%matplotlib inline\n",
    "%load_ext autoreload\n",
    "%autoreload 2"
   ]
  },
  {
   "cell_type": "code",
   "execution_count": null,
   "id": "3dbc7e46-66a1-4180-8d2a-268217c7f263",
   "metadata": {},
   "outputs": [],
   "source": [
    "import numpy as np\n",
    "import pandas as pd\n",
    "\n",
    "import analysis as a "
   ]
  },
  {
   "cell_type": "code",
   "execution_count": null,
   "id": "a322e6f8-19a5-4242-af8c-f605d60e71b8",
   "metadata": {},
   "outputs": [],
   "source": [
    "rmatrix = a.rmatrices('100118','103118', 10)\n",
    "rmatrix"
   ]
  },
  {
   "cell_type": "code",
   "execution_count": null,
   "id": "5cf0d86c-56d9-4532-a831-105b22a03510",
   "metadata": {},
   "outputs": [],
   "source": [
    "raverages = [m.mean().mean() for m in rmatrix]\n",
    "corrmatrix = [i.corr(method='pearson') for i in rmatrix]\n",
    "corraverages = [i.mean().mean() for i in corrmatrix]"
   ]
  }
 ],
 "metadata": {
  "kernelspec": {
   "display_name": "Python 3 (ipykernel)",
   "language": "python",
   "name": "python3"
  },
  "language_info": {
   "codemirror_mode": {
    "name": "ipython",
    "version": 3
   },
   "file_extension": ".py",
   "mimetype": "text/x-python",
   "name": "python",
   "nbconvert_exporter": "python",
   "pygments_lexer": "ipython3",
   "version": "3.8.12"
  }
 },
 "nbformat": 4,
 "nbformat_minor": 5
}
